print("Hello World")


print("Testing...")


pip list



